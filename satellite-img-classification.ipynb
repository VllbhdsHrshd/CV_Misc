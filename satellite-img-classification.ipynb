{
 "cells": [
  {
   "cell_type": "code",
   "execution_count": 1,
   "id": "f1d71a17",
   "metadata": {
    "execution": {
     "iopub.execute_input": "2023-08-23T17:53:55.679454Z",
     "iopub.status.busy": "2023-08-23T17:53:55.678312Z",
     "iopub.status.idle": "2023-08-23T17:53:59.849894Z",
     "shell.execute_reply": "2023-08-23T17:53:59.848780Z"
    },
    "papermill": {
     "duration": 4.187387,
     "end_time": "2023-08-23T17:53:59.852890",
     "exception": false,
     "start_time": "2023-08-23T17:53:55.665503",
     "status": "completed"
    },
    "tags": []
   },
   "outputs": [],
   "source": [
    "import os \n",
    "import torch, torchvision\n",
    "import tarfile\n",
    "import torch.nn as nn\n",
    "import numpy as np\n",
    "import torch.nn.functional as F\n",
    "from torchvision.datasets.utils import download_url\n",
    "from torchvision.datasets import ImageFolder\n",
    "from torch.utils.data import DataLoader\n",
    "import torchvision.transforms as tt\n",
    "from torch.utils.data import random_split\n",
    "from torchvision.utils import make_grid\n",
    "import matplotlib.pyplot as plt\n",
    "\n"
   ]
  },
  {
   "cell_type": "code",
   "execution_count": 2,
   "id": "396f56af",
   "metadata": {
    "execution": {
     "iopub.execute_input": "2023-08-23T17:53:59.876875Z",
     "iopub.status.busy": "2023-08-23T17:53:59.876248Z",
     "iopub.status.idle": "2023-08-23T17:53:59.882094Z",
     "shell.execute_reply": "2023-08-23T17:53:59.880784Z"
    },
    "papermill": {
     "duration": 0.021308,
     "end_time": "2023-08-23T17:53:59.885223",
     "exception": false,
     "start_time": "2023-08-23T17:53:59.863915",
     "status": "completed"
    },
    "tags": []
   },
   "outputs": [],
   "source": [
    "import matplotlib \n",
    "matplotlib.rcParams['figure.facecolor']='#ffffff'\n",
    "project_name='sat_img_classfier'"
   ]
  },
  {
   "cell_type": "code",
   "execution_count": 3,
   "id": "5e994e41",
   "metadata": {
    "execution": {
     "iopub.execute_input": "2023-08-23T17:53:59.908305Z",
     "iopub.status.busy": "2023-08-23T17:53:59.907857Z",
     "iopub.status.idle": "2023-08-23T17:53:59.924198Z",
     "shell.execute_reply": "2023-08-23T17:53:59.922869Z"
    },
    "papermill": {
     "duration": 0.030875,
     "end_time": "2023-08-23T17:53:59.926871",
     "exception": false,
     "start_time": "2023-08-23T17:53:59.895996",
     "status": "completed"
    },
    "tags": []
   },
   "outputs": [
    {
     "name": "stdout",
     "output_type": "stream",
     "text": [
      "['cloudy', 'desert', 'green_area', 'water']\n"
     ]
    }
   ],
   "source": [
    "data_dir = \"/kaggle/input/satellite-image-classification/data\"\n",
    "print(os.listdir(data_dir))"
   ]
  },
  {
   "cell_type": "code",
   "execution_count": 4,
   "id": "9bc84ca4",
   "metadata": {
    "execution": {
     "iopub.execute_input": "2023-08-23T17:53:59.951274Z",
     "iopub.status.busy": "2023-08-23T17:53:59.950070Z",
     "iopub.status.idle": "2023-08-23T17:53:59.957689Z",
     "shell.execute_reply": "2023-08-23T17:53:59.956576Z"
    },
    "papermill": {
     "duration": 0.022268,
     "end_time": "2023-08-23T17:53:59.960011",
     "exception": false,
     "start_time": "2023-08-23T17:53:59.937743",
     "status": "completed"
    },
    "tags": []
   },
   "outputs": [],
   "source": [
    "## stats for Normalization\n",
    "stats =((0.4914,0.4822,0.4465),(0.2023, 0.1994, 0.2010))\n",
    "train_tfms = tt.Compose([tt.RandomCrop(64, padding=4, padding_mode='reflect'),\n",
    "                        tt.RandomHorizontalFlip(),\n",
    "                        tt.ToTensor(),\n",
    "                        tt.Normalize(*stats, inplace=True)])\n",
    "\n",
    "valid_tfms = tt.Compose([\n",
    "    tt.ToTensor(),\n",
    "    tt.Normalize(*stats)\n",
    "])\n",
    "\n"
   ]
  },
  {
   "cell_type": "code",
   "execution_count": 5,
   "id": "a91624d1",
   "metadata": {
    "execution": {
     "iopub.execute_input": "2023-08-23T17:53:59.983279Z",
     "iopub.status.busy": "2023-08-23T17:53:59.982868Z",
     "iopub.status.idle": "2023-08-23T17:53:59.987796Z",
     "shell.execute_reply": "2023-08-23T17:53:59.986706Z"
    },
    "papermill": {
     "duration": 0.019221,
     "end_time": "2023-08-23T17:53:59.990116",
     "exception": false,
     "start_time": "2023-08-23T17:53:59.970895",
     "status": "completed"
    },
    "tags": []
   },
   "outputs": [],
   "source": [
    "from torchvision import datasets, transforms, models\n"
   ]
  },
  {
   "cell_type": "code",
   "execution_count": 6,
   "id": "88bb8e94",
   "metadata": {
    "execution": {
     "iopub.execute_input": "2023-08-23T17:54:00.012769Z",
     "iopub.status.busy": "2023-08-23T17:54:00.012418Z",
     "iopub.status.idle": "2023-08-23T17:54:07.539638Z",
     "shell.execute_reply": "2023-08-23T17:54:07.538537Z"
    },
    "papermill": {
     "duration": 7.541345,
     "end_time": "2023-08-23T17:54:07.542319",
     "exception": false,
     "start_time": "2023-08-23T17:54:00.000974",
     "status": "completed"
    },
    "tags": []
   },
   "outputs": [],
   "source": [
    "train_transforms = transforms.Compose([\n",
    "    transforms.Resize(64),\n",
    "    transforms.ToTensor()\n",
    "])\n",
    "\n",
    "\n",
    "\n",
    "test_transforms = transforms.Compose([\n",
    "    transforms.Resize(64),\n",
    "    transforms.ToTensor()\n",
    "])\n",
    "\n",
    "\n",
    "\n",
    "train_data = datasets.ImageFolder(data_dir, \n",
    "                                 transform=train_transforms)\n",
    "\n",
    "test_data = datasets.ImageFolder(data_dir, transform=test_transforms)\n"
   ]
  },
  {
   "cell_type": "code",
   "execution_count": 7,
   "id": "cf086f36",
   "metadata": {
    "execution": {
     "iopub.execute_input": "2023-08-23T17:54:07.565721Z",
     "iopub.status.busy": "2023-08-23T17:54:07.564768Z",
     "iopub.status.idle": "2023-08-23T17:54:07.570116Z",
     "shell.execute_reply": "2023-08-23T17:54:07.569014Z"
    },
    "papermill": {
     "duration": 0.019737,
     "end_time": "2023-08-23T17:54:07.572788",
     "exception": false,
     "start_time": "2023-08-23T17:54:07.553051",
     "status": "completed"
    },
    "tags": []
   },
   "outputs": [],
   "source": [
    "batch_size = 8\n"
   ]
  },
  {
   "cell_type": "code",
   "execution_count": 8,
   "id": "22528ca6",
   "metadata": {
    "execution": {
     "iopub.execute_input": "2023-08-23T17:54:07.597854Z",
     "iopub.status.busy": "2023-08-23T17:54:07.595799Z",
     "iopub.status.idle": "2023-08-23T17:54:07.603012Z",
     "shell.execute_reply": "2023-08-23T17:54:07.601861Z"
    },
    "papermill": {
     "duration": 0.021862,
     "end_time": "2023-08-23T17:54:07.605427",
     "exception": false,
     "start_time": "2023-08-23T17:54:07.583565",
     "status": "completed"
    },
    "tags": []
   },
   "outputs": [],
   "source": [
    "## Time to load the data in the Dataloader\n",
    "train_dl = DataLoader(train_data, batch_size, shuffle=True, num_workers=2, pin_memory=True)\n",
    "\n",
    "valid_dl = DataLoader(test_data, batch_size*2, shuffle=False, num_workers =2, pin_memory=True)\n"
   ]
  },
  {
   "cell_type": "code",
   "execution_count": 9,
   "id": "b39cbe3a",
   "metadata": {
    "execution": {
     "iopub.execute_input": "2023-08-23T17:54:07.628631Z",
     "iopub.status.busy": "2023-08-23T17:54:07.627930Z",
     "iopub.status.idle": "2023-08-23T17:54:07.634513Z",
     "shell.execute_reply": "2023-08-23T17:54:07.633309Z"
    },
    "papermill": {
     "duration": 0.020719,
     "end_time": "2023-08-23T17:54:07.636771",
     "exception": false,
     "start_time": "2023-08-23T17:54:07.616052",
     "status": "completed"
    },
    "tags": []
   },
   "outputs": [],
   "source": [
    "## Lets Normalize the image tensors\n",
    "def denormalize(images, means, stds):\n",
    "    means = torch.tensor(means).reshape(1,3,1,1)\n",
    "    stds = torch.tensor(stds).reshape(1,3,1,1)\n",
    "    return images * stds + means"
   ]
  },
  {
   "cell_type": "code",
   "execution_count": 10,
   "id": "c3c593b7",
   "metadata": {
    "execution": {
     "iopub.execute_input": "2023-08-23T17:54:07.658817Z",
     "iopub.status.busy": "2023-08-23T17:54:07.657858Z",
     "iopub.status.idle": "2023-08-23T17:54:07.665078Z",
     "shell.execute_reply": "2023-08-23T17:54:07.663749Z"
    },
    "papermill": {
     "duration": 0.020555,
     "end_time": "2023-08-23T17:54:07.667446",
     "exception": false,
     "start_time": "2023-08-23T17:54:07.646891",
     "status": "completed"
    },
    "tags": []
   },
   "outputs": [],
   "source": [
    "## To display image datas from batches\n",
    "def show_batch(dl):\n",
    "    for images , labels in dl:\n",
    "        fig , ax = plt.subplots(figsize=(12,12))\n",
    "        ax.set_xticks([])\n",
    "        ax.set_yticks([])\n",
    "        denorm_images = denormalize(images, *stats)\n",
    "        ax.imshow(make_grid(denorm_images[:64], nrow=8).permute(1,2,0).clamp(0,1))\n",
    "        "
   ]
  },
  {
   "cell_type": "code",
   "execution_count": 11,
   "id": "c6d912a5",
   "metadata": {
    "execution": {
     "iopub.execute_input": "2023-08-23T17:54:07.690837Z",
     "iopub.status.busy": "2023-08-23T17:54:07.689798Z",
     "iopub.status.idle": "2023-08-23T17:54:07.694994Z",
     "shell.execute_reply": "2023-08-23T17:54:07.694005Z"
    },
    "papermill": {
     "duration": 0.018761,
     "end_time": "2023-08-23T17:54:07.697010",
     "exception": false,
     "start_time": "2023-08-23T17:54:07.678249",
     "status": "completed"
    },
    "tags": []
   },
   "outputs": [],
   "source": [
    "# show_batch(train_dl)"
   ]
  },
  {
   "cell_type": "code",
   "execution_count": 12,
   "id": "2a35fd36",
   "metadata": {
    "execution": {
     "iopub.execute_input": "2023-08-23T17:54:07.720528Z",
     "iopub.status.busy": "2023-08-23T17:54:07.719388Z",
     "iopub.status.idle": "2023-08-23T17:54:07.728693Z",
     "shell.execute_reply": "2023-08-23T17:54:07.727620Z"
    },
    "papermill": {
     "duration": 0.02342,
     "end_time": "2023-08-23T17:54:07.731022",
     "exception": false,
     "start_time": "2023-08-23T17:54:07.707602",
     "status": "completed"
    },
    "tags": []
   },
   "outputs": [],
   "source": [
    "def get_default_device():\n",
    "    if torch.cuda.is_available():\n",
    "        return torch.device('cuda')\n",
    "    else:\n",
    "        return torch.device('cpu')\n",
    "\n",
    "    \n",
    "def to_device(data, device):\n",
    "    if isinstance(data,(list, tuple)):\n",
    "        return [to_device(x, device) for x in data ]\n",
    "    return data.to(device, non_blocking=True)\n",
    "\n",
    "\n",
    "class DeviceDataLoader():\n",
    "    def __init__(self, dl, device):\n",
    "        self.dl = dl\n",
    "        self.device = device\n",
    "    \n",
    "    def __iter__(self):\n",
    "        for b in self.dl:\n",
    "            yield to_device(b, self.device)\n",
    "    def __len__(self):\n",
    "        return len(self.dl)\n",
    "    \n",
    "    "
   ]
  },
  {
   "cell_type": "code",
   "execution_count": 13,
   "id": "3ad3e739",
   "metadata": {
    "execution": {
     "iopub.execute_input": "2023-08-23T17:54:07.755327Z",
     "iopub.status.busy": "2023-08-23T17:54:07.754332Z",
     "iopub.status.idle": "2023-08-23T17:54:07.833636Z",
     "shell.execute_reply": "2023-08-23T17:54:07.832441Z"
    },
    "papermill": {
     "duration": 0.093885,
     "end_time": "2023-08-23T17:54:07.836083",
     "exception": false,
     "start_time": "2023-08-23T17:54:07.742198",
     "status": "completed"
    },
    "tags": []
   },
   "outputs": [
    {
     "data": {
      "text/plain": [
       "device(type='cuda')"
      ]
     },
     "execution_count": 13,
     "metadata": {},
     "output_type": "execute_result"
    }
   ],
   "source": [
    "device = get_default_device()\n",
    "device"
   ]
  },
  {
   "cell_type": "code",
   "execution_count": 14,
   "id": "6f5a6304",
   "metadata": {
    "execution": {
     "iopub.execute_input": "2023-08-23T17:54:07.861818Z",
     "iopub.status.busy": "2023-08-23T17:54:07.860670Z",
     "iopub.status.idle": "2023-08-23T17:54:07.866554Z",
     "shell.execute_reply": "2023-08-23T17:54:07.865489Z"
    },
    "papermill": {
     "duration": 0.020669,
     "end_time": "2023-08-23T17:54:07.868944",
     "exception": false,
     "start_time": "2023-08-23T17:54:07.848275",
     "status": "completed"
    },
    "tags": []
   },
   "outputs": [],
   "source": [
    "train_dl = DeviceDataLoader(train_dl, device)\n",
    "valid_dl = DeviceDataLoader(valid_dl, device)\n"
   ]
  },
  {
   "cell_type": "code",
   "execution_count": 15,
   "id": "6619556f",
   "metadata": {
    "execution": {
     "iopub.execute_input": "2023-08-23T17:54:07.892694Z",
     "iopub.status.busy": "2023-08-23T17:54:07.892311Z",
     "iopub.status.idle": "2023-08-23T17:54:07.900290Z",
     "shell.execute_reply": "2023-08-23T17:54:07.899219Z"
    },
    "papermill": {
     "duration": 0.02267,
     "end_time": "2023-08-23T17:54:07.902626",
     "exception": false,
     "start_time": "2023-08-23T17:54:07.879956",
     "status": "completed"
    },
    "tags": []
   },
   "outputs": [],
   "source": [
    "class SimpleResBlock(nn.Module):\n",
    "    def __init__(self):\n",
    "        super().__init__()\n",
    "        self.conv1 = nn.Conv2d(3,3,3,1,1)\n",
    "        self.relu1 = nn.ReLU()\n",
    "        self.conv2 = nn.Conv2d(3,3,3,1,1)\n",
    "        self.relu2 = nn.ReLU()\n",
    "        \n",
    "    def forward(self, x):\n",
    "        out = self.conv1(x)\n",
    "        out = self.relu1(out)\n",
    "        out = self.conv2(out)\n",
    "        out = self.relu2(out)\n",
    "        out = out + x \n",
    "        return out"
   ]
  },
  {
   "cell_type": "code",
   "execution_count": 16,
   "id": "5547885b",
   "metadata": {
    "execution": {
     "iopub.execute_input": "2023-08-23T17:54:07.926990Z",
     "iopub.status.busy": "2023-08-23T17:54:07.925913Z",
     "iopub.status.idle": "2023-08-23T17:54:11.364631Z",
     "shell.execute_reply": "2023-08-23T17:54:11.363402Z"
    },
    "papermill": {
     "duration": 3.454419,
     "end_time": "2023-08-23T17:54:11.368282",
     "exception": false,
     "start_time": "2023-08-23T17:54:07.913863",
     "status": "completed"
    },
    "tags": []
   },
   "outputs": [],
   "source": [
    "simple_resnet = to_device(SimpleResBlock(), device)\n"
   ]
  },
  {
   "cell_type": "code",
   "execution_count": 17,
   "id": "241d4ad2",
   "metadata": {
    "execution": {
     "iopub.execute_input": "2023-08-23T17:54:11.393925Z",
     "iopub.status.busy": "2023-08-23T17:54:11.393560Z",
     "iopub.status.idle": "2023-08-23T17:54:11.398097Z",
     "shell.execute_reply": "2023-08-23T17:54:11.397164Z"
    },
    "papermill": {
     "duration": 0.018968,
     "end_time": "2023-08-23T17:54:11.400522",
     "exception": false,
     "start_time": "2023-08-23T17:54:11.381554",
     "status": "completed"
    },
    "tags": []
   },
   "outputs": [],
   "source": [
    "# for images, labels in train_dl:\n",
    "#     out = simple_resnet(images)\n",
    "#     print(out.shape)\n",
    "    "
   ]
  },
  {
   "cell_type": "code",
   "execution_count": 18,
   "id": "996c9c93",
   "metadata": {
    "execution": {
     "iopub.execute_input": "2023-08-23T17:54:11.425493Z",
     "iopub.status.busy": "2023-08-23T17:54:11.423491Z",
     "iopub.status.idle": "2023-08-23T17:54:11.430250Z",
     "shell.execute_reply": "2023-08-23T17:54:11.429212Z"
    },
    "papermill": {
     "duration": 0.021984,
     "end_time": "2023-08-23T17:54:11.432803",
     "exception": false,
     "start_time": "2023-08-23T17:54:11.410819",
     "status": "completed"
    },
    "tags": []
   },
   "outputs": [],
   "source": [
    "del simple_resnet\n",
    "torch.cuda.empty_cache()"
   ]
  },
  {
   "cell_type": "code",
   "execution_count": 19,
   "id": "79acc465",
   "metadata": {
    "execution": {
     "iopub.execute_input": "2023-08-23T17:54:11.456659Z",
     "iopub.status.busy": "2023-08-23T17:54:11.456245Z",
     "iopub.status.idle": "2023-08-23T17:54:11.468731Z",
     "shell.execute_reply": "2023-08-23T17:54:11.467516Z"
    },
    "papermill": {
     "duration": 0.027621,
     "end_time": "2023-08-23T17:54:11.471233",
     "exception": false,
     "start_time": "2023-08-23T17:54:11.443612",
     "status": "completed"
    },
    "tags": []
   },
   "outputs": [],
   "source": [
    "def accuracy(outputs, labels):\n",
    "    _, preds = torch.max(outputs, dim=1)\n",
    "    return torch.tensor(torch.sum(preds == labels).item() / len(preds))\n",
    "\n",
    "class ImageClassificationBase(nn.Module):\n",
    "    def training_step(self, batch):\n",
    "        images, labels = batch \n",
    "        out = self(images)                  # Generate predictions\n",
    "        loss = F.cross_entropy(out, labels) # Calculate loss\n",
    "        return loss\n",
    "    \n",
    "    def validation_step(self, batch):\n",
    "        images, labels = batch \n",
    "        out = self(images)                    # Generate predictions\n",
    "        loss = F.cross_entropy(out, labels)   # Calculate loss\n",
    "        acc = accuracy(out, labels)           # Calculate accuracy\n",
    "        return {'val_loss': loss.detach(), 'val_acc': acc}\n",
    "        \n",
    "    def validation_epoch_end(self, outputs):\n",
    "        batch_losses = [x['val_loss'] for x in outputs]\n",
    "        epoch_loss = torch.stack(batch_losses).mean()   # Combine losses\n",
    "        batch_accs = [x['val_acc'] for x in outputs]\n",
    "        epoch_acc = torch.stack(batch_accs).mean()      # Combine accuracies\n",
    "        return {'val_loss': epoch_loss.item(), 'val_acc': epoch_acc.item()}\n",
    "    \n",
    "    def epoch_end(self, epoch, result):\n",
    "        print(\"Epoch [{}], last_lr: {:.5f}, train_loss: {:.4f}, val_loss: {:.4f}, val_acc: {:.4f}\".format(\n",
    "            epoch, result['lrs'][-1], result['train_loss'], result['val_loss'], result['val_acc']))"
   ]
  },
  {
   "cell_type": "code",
   "execution_count": 20,
   "id": "e6236d38",
   "metadata": {
    "execution": {
     "iopub.execute_input": "2023-08-23T17:54:11.496771Z",
     "iopub.status.busy": "2023-08-23T17:54:11.494791Z",
     "iopub.status.idle": "2023-08-23T17:54:11.507814Z",
     "shell.execute_reply": "2023-08-23T17:54:11.506634Z"
    },
    "papermill": {
     "duration": 0.028359,
     "end_time": "2023-08-23T17:54:11.510584",
     "exception": false,
     "start_time": "2023-08-23T17:54:11.482225",
     "status": "completed"
    },
    "tags": []
   },
   "outputs": [],
   "source": [
    "def conv_block(in_channels, out_channels, pool=False):\n",
    "    layers = [nn.Conv2d(in_channels, out_channels, kernel_size=3, padding=1), \n",
    "              nn.BatchNorm2d(out_channels), \n",
    "              nn.ReLU(inplace=True)]\n",
    "    if pool: layers.append(nn.MaxPool2d(2))\n",
    "    return nn.Sequential(*layers)\n",
    "\n",
    "class ResNet9(ImageClassificationBase):\n",
    "    def __init__(self, in_channels, num_classes):\n",
    "        super().__init__()\n",
    "        \n",
    "        self.conv1 = conv_block(in_channels, 64)\n",
    "        self.conv2 = conv_block(64, 128, pool=True)\n",
    "        self.res1 = nn.Sequential(conv_block(128, 128), conv_block(128, 128))\n",
    "        \n",
    "        self.conv3 = conv_block(128, 256, pool=True)\n",
    "        self.conv4 = conv_block(256, 512, pool=True)\n",
    "        self.res2 = nn.Sequential(conv_block(512, 512), conv_block(512, 512))\n",
    "        \n",
    "        self.classifier = nn.Sequential(nn.AdaptiveMaxPool2d(1), \n",
    "                                        nn.Flatten(), \n",
    "                                        nn.Dropout(0.2),\n",
    "                                        nn.Linear(512, num_classes))\n",
    "        \n",
    "    def forward(self, xb):\n",
    "        out = self.conv1(xb)\n",
    "        out = self.conv2(out)\n",
    "        out = self.res1(out) + out\n",
    "        out = self.conv3(out)\n",
    "        out = self.conv4(out)\n",
    "        out = self.res2(out) + out\n",
    "        out = self.classifier(out)\n",
    "        return out"
   ]
  },
  {
   "cell_type": "code",
   "execution_count": 21,
   "id": "e58eef42",
   "metadata": {
    "execution": {
     "iopub.execute_input": "2023-08-23T17:54:11.535237Z",
     "iopub.status.busy": "2023-08-23T17:54:11.534027Z",
     "iopub.status.idle": "2023-08-23T17:54:11.633989Z",
     "shell.execute_reply": "2023-08-23T17:54:11.632911Z"
    },
    "papermill": {
     "duration": 0.114878,
     "end_time": "2023-08-23T17:54:11.636423",
     "exception": false,
     "start_time": "2023-08-23T17:54:11.521545",
     "status": "completed"
    },
    "tags": []
   },
   "outputs": [
    {
     "data": {
      "text/plain": [
       "ResNet9(\n",
       "  (conv1): Sequential(\n",
       "    (0): Conv2d(3, 64, kernel_size=(3, 3), stride=(1, 1), padding=(1, 1))\n",
       "    (1): BatchNorm2d(64, eps=1e-05, momentum=0.1, affine=True, track_running_stats=True)\n",
       "    (2): ReLU(inplace=True)\n",
       "  )\n",
       "  (conv2): Sequential(\n",
       "    (0): Conv2d(64, 128, kernel_size=(3, 3), stride=(1, 1), padding=(1, 1))\n",
       "    (1): BatchNorm2d(128, eps=1e-05, momentum=0.1, affine=True, track_running_stats=True)\n",
       "    (2): ReLU(inplace=True)\n",
       "    (3): MaxPool2d(kernel_size=2, stride=2, padding=0, dilation=1, ceil_mode=False)\n",
       "  )\n",
       "  (res1): Sequential(\n",
       "    (0): Sequential(\n",
       "      (0): Conv2d(128, 128, kernel_size=(3, 3), stride=(1, 1), padding=(1, 1))\n",
       "      (1): BatchNorm2d(128, eps=1e-05, momentum=0.1, affine=True, track_running_stats=True)\n",
       "      (2): ReLU(inplace=True)\n",
       "    )\n",
       "    (1): Sequential(\n",
       "      (0): Conv2d(128, 128, kernel_size=(3, 3), stride=(1, 1), padding=(1, 1))\n",
       "      (1): BatchNorm2d(128, eps=1e-05, momentum=0.1, affine=True, track_running_stats=True)\n",
       "      (2): ReLU(inplace=True)\n",
       "    )\n",
       "  )\n",
       "  (conv3): Sequential(\n",
       "    (0): Conv2d(128, 256, kernel_size=(3, 3), stride=(1, 1), padding=(1, 1))\n",
       "    (1): BatchNorm2d(256, eps=1e-05, momentum=0.1, affine=True, track_running_stats=True)\n",
       "    (2): ReLU(inplace=True)\n",
       "    (3): MaxPool2d(kernel_size=2, stride=2, padding=0, dilation=1, ceil_mode=False)\n",
       "  )\n",
       "  (conv4): Sequential(\n",
       "    (0): Conv2d(256, 512, kernel_size=(3, 3), stride=(1, 1), padding=(1, 1))\n",
       "    (1): BatchNorm2d(512, eps=1e-05, momentum=0.1, affine=True, track_running_stats=True)\n",
       "    (2): ReLU(inplace=True)\n",
       "    (3): MaxPool2d(kernel_size=2, stride=2, padding=0, dilation=1, ceil_mode=False)\n",
       "  )\n",
       "  (res2): Sequential(\n",
       "    (0): Sequential(\n",
       "      (0): Conv2d(512, 512, kernel_size=(3, 3), stride=(1, 1), padding=(1, 1))\n",
       "      (1): BatchNorm2d(512, eps=1e-05, momentum=0.1, affine=True, track_running_stats=True)\n",
       "      (2): ReLU(inplace=True)\n",
       "    )\n",
       "    (1): Sequential(\n",
       "      (0): Conv2d(512, 512, kernel_size=(3, 3), stride=(1, 1), padding=(1, 1))\n",
       "      (1): BatchNorm2d(512, eps=1e-05, momentum=0.1, affine=True, track_running_stats=True)\n",
       "      (2): ReLU(inplace=True)\n",
       "    )\n",
       "  )\n",
       "  (classifier): Sequential(\n",
       "    (0): AdaptiveMaxPool2d(output_size=1)\n",
       "    (1): Flatten(start_dim=1, end_dim=-1)\n",
       "    (2): Dropout(p=0.2, inplace=False)\n",
       "    (3): Linear(in_features=512, out_features=4, bias=True)\n",
       "  )\n",
       ")"
      ]
     },
     "execution_count": 21,
     "metadata": {},
     "output_type": "execute_result"
    }
   ],
   "source": [
    "model = to_device(ResNet9(3,4), device)\n",
    "model"
   ]
  },
  {
   "cell_type": "code",
   "execution_count": 22,
   "id": "d52df36b",
   "metadata": {
    "execution": {
     "iopub.execute_input": "2023-08-23T17:54:11.660060Z",
     "iopub.status.busy": "2023-08-23T17:54:11.659668Z",
     "iopub.status.idle": "2023-08-23T17:54:11.673015Z",
     "shell.execute_reply": "2023-08-23T17:54:11.671918Z"
    },
    "papermill": {
     "duration": 0.028051,
     "end_time": "2023-08-23T17:54:11.675435",
     "exception": false,
     "start_time": "2023-08-23T17:54:11.647384",
     "status": "completed"
    },
    "tags": []
   },
   "outputs": [],
   "source": [
    "@torch.no_grad()\n",
    "def evaluate(model, val_loader):\n",
    "    model.eval()\n",
    "    outputs = [model.validation_step(batch) for batch in val_loader]\n",
    "    return model.validation_epoch_end(outputs)\n",
    "\n",
    "def get_lr(optimizer):\n",
    "    for param_group in optimizer.param_groups:\n",
    "        return param_group['lr']\n",
    "\n",
    "def fit_one_cycle(epochs, max_lr, model, train_loader, val_loader, \n",
    "                  weight_decay=0, grad_clip=None, opt_func=torch.optim.SGD):\n",
    "    torch.cuda.empty_cache()\n",
    "    history = []\n",
    "    \n",
    "    # Set up cutom optimizer with weight decay\n",
    "    optimizer = opt_func(model.parameters(), max_lr, weight_decay=weight_decay)\n",
    "    # Set up one-cycle learning rate scheduler\n",
    "    sched = torch.optim.lr_scheduler.OneCycleLR(optimizer, max_lr, epochs=epochs, \n",
    "                                                steps_per_epoch=len(train_loader))\n",
    "    \n",
    "    for epoch in range(epochs):\n",
    "        # Training Phase \n",
    "        model.train()\n",
    "        train_losses = []\n",
    "        lrs = []\n",
    "        for batch in train_loader:\n",
    "            loss = model.training_step(batch)\n",
    "            train_losses.append(loss)\n",
    "            loss.backward()\n",
    "            \n",
    "            # Gradient clipping\n",
    "            if grad_clip: \n",
    "                nn.utils.clip_grad_value_(model.parameters(), grad_clip)\n",
    "            \n",
    "            optimizer.step()\n",
    "            optimizer.zero_grad()\n",
    "            \n",
    "            # Record & update learning rate\n",
    "            lrs.append(get_lr(optimizer))\n",
    "            sched.step()\n",
    "        \n",
    "        # Validation phase\n",
    "        result = evaluate(model, val_loader)\n",
    "        result['train_loss'] = torch.stack(train_losses).mean().item()\n",
    "        result['lrs'] = lrs\n",
    "        model.epoch_end(epoch, result)\n",
    "        history.append(result)\n",
    "    return history"
   ]
  },
  {
   "cell_type": "code",
   "execution_count": 23,
   "id": "3405d681",
   "metadata": {
    "execution": {
     "iopub.execute_input": "2023-08-23T17:54:11.699501Z",
     "iopub.status.busy": "2023-08-23T17:54:11.698552Z",
     "iopub.status.idle": "2023-08-23T17:54:36.548466Z",
     "shell.execute_reply": "2023-08-23T17:54:36.547195Z"
    },
    "papermill": {
     "duration": 24.864413,
     "end_time": "2023-08-23T17:54:36.550996",
     "exception": false,
     "start_time": "2023-08-23T17:54:11.686583",
     "status": "completed"
    },
    "tags": []
   },
   "outputs": [
    {
     "data": {
      "text/plain": [
       "[{'val_loss': 1.388533592224121, 'val_acc': 0.365127831697464}]"
      ]
     },
     "execution_count": 23,
     "metadata": {},
     "output_type": "execute_result"
    }
   ],
   "source": [
    "history = [evaluate(model, valid_dl)]\n",
    "history"
   ]
  },
  {
   "cell_type": "code",
   "execution_count": 24,
   "id": "49272545",
   "metadata": {
    "execution": {
     "iopub.execute_input": "2023-08-23T17:54:36.575949Z",
     "iopub.status.busy": "2023-08-23T17:54:36.575533Z",
     "iopub.status.idle": "2023-08-23T17:54:36.582353Z",
     "shell.execute_reply": "2023-08-23T17:54:36.581223Z"
    },
    "papermill": {
     "duration": 0.022395,
     "end_time": "2023-08-23T17:54:36.585012",
     "exception": false,
     "start_time": "2023-08-23T17:54:36.562617",
     "status": "completed"
    },
    "tags": []
   },
   "outputs": [],
   "source": [
    "epochs = 50 \n",
    "max_lr = 0.01\n",
    "grad_clip = 0.1\n",
    "weight_decay = 1e-4\n",
    "opt_fun = torch.optim.Adam\n"
   ]
  },
  {
   "cell_type": "code",
   "execution_count": 25,
   "id": "4e860db9",
   "metadata": {
    "execution": {
     "iopub.execute_input": "2023-08-23T17:54:36.609980Z",
     "iopub.status.busy": "2023-08-23T17:54:36.609587Z",
     "iopub.status.idle": "2023-08-23T18:10:07.939566Z",
     "shell.execute_reply": "2023-08-23T18:10:07.938240Z"
    },
    "papermill": {
     "duration": 931.358406,
     "end_time": "2023-08-23T18:10:07.954904",
     "exception": false,
     "start_time": "2023-08-23T17:54:36.596498",
     "status": "completed"
    },
    "tags": []
   },
   "outputs": [
    {
     "name": "stdout",
     "output_type": "stream",
     "text": [
      "Epoch [0], last_lr: 0.00050, train_loss: 0.6468, val_loss: 0.2898, val_acc: 0.8842\n",
      "Epoch [1], last_lr: 0.00081, train_loss: 0.4794, val_loss: 0.2981, val_acc: 0.8924\n",
      "Epoch [2], last_lr: 0.00132, train_loss: 0.5165, val_loss: 0.3038, val_acc: 0.8967\n",
      "Epoch [3], last_lr: 0.00199, train_loss: 0.4907, val_loss: 0.4899, val_acc: 0.7994\n",
      "Epoch [4], last_lr: 0.00280, train_loss: 0.5338, val_loss: 0.5088, val_acc: 0.8025\n",
      "Epoch [5], last_lr: 0.00372, train_loss: 0.5671, val_loss: 0.3147, val_acc: 0.9043\n",
      "Epoch [6], last_lr: 0.00470, train_loss: 0.5545, val_loss: 0.2802, val_acc: 0.9117\n",
      "Epoch [7], last_lr: 0.00570, train_loss: 0.4509, val_loss: 0.8369, val_acc: 0.7239\n",
      "Epoch [8], last_lr: 0.00668, train_loss: 0.5044, val_loss: 0.2484, val_acc: 0.9180\n",
      "Epoch [9], last_lr: 0.00760, train_loss: 0.4884, val_loss: 0.4034, val_acc: 0.8496\n",
      "Epoch [10], last_lr: 0.00841, train_loss: 0.4174, val_loss: 1.4136, val_acc: 0.4492\n",
      "Epoch [11], last_lr: 0.00908, train_loss: 0.3778, val_loss: 0.2249, val_acc: 0.9235\n",
      "Epoch [12], last_lr: 0.00958, train_loss: 0.3163, val_loss: 0.1426, val_acc: 0.9547\n",
      "Epoch [13], last_lr: 0.00990, train_loss: 0.3347, val_loss: 0.2271, val_acc: 0.9091\n",
      "Epoch [14], last_lr: 0.01000, train_loss: 0.3076, val_loss: 0.1211, val_acc: 0.9616\n",
      "Epoch [15], last_lr: 0.00998, train_loss: 0.2881, val_loss: 0.2289, val_acc: 0.8741\n",
      "Epoch [16], last_lr: 0.00992, train_loss: 0.2693, val_loss: 0.1531, val_acc: 0.9480\n",
      "Epoch [17], last_lr: 0.00982, train_loss: 0.2654, val_loss: 0.1691, val_acc: 0.9334\n",
      "Epoch [18], last_lr: 0.00968, train_loss: 0.2531, val_loss: 0.1160, val_acc: 0.9648\n",
      "Epoch [19], last_lr: 0.00950, train_loss: 0.2348, val_loss: 0.1348, val_acc: 0.9343\n",
      "Epoch [20], last_lr: 0.00929, train_loss: 0.2439, val_loss: 0.2413, val_acc: 0.9238\n",
      "Epoch [21], last_lr: 0.00905, train_loss: 0.2245, val_loss: 0.1096, val_acc: 0.9581\n",
      "Epoch [22], last_lr: 0.00877, train_loss: 0.2035, val_loss: 0.1775, val_acc: 0.9247\n",
      "Epoch [23], last_lr: 0.00846, train_loss: 0.2059, val_loss: 0.0741, val_acc: 0.9750\n",
      "Epoch [24], last_lr: 0.00812, train_loss: 0.1905, val_loss: 0.1054, val_acc: 0.9473\n",
      "Epoch [25], last_lr: 0.00775, train_loss: 0.2044, val_loss: 0.1150, val_acc: 0.9624\n",
      "Epoch [26], last_lr: 0.00737, train_loss: 0.1793, val_loss: 0.0856, val_acc: 0.9728\n",
      "Epoch [27], last_lr: 0.00697, train_loss: 0.1698, val_loss: 0.1034, val_acc: 0.9462\n",
      "Epoch [28], last_lr: 0.00655, train_loss: 0.1718, val_loss: 0.0692, val_acc: 0.9769\n",
      "Epoch [29], last_lr: 0.00611, train_loss: 0.1575, val_loss: 0.0776, val_acc: 0.9759\n",
      "Epoch [30], last_lr: 0.00567, train_loss: 0.1556, val_loss: 0.1883, val_acc: 0.9430\n",
      "Epoch [31], last_lr: 0.00522, train_loss: 0.1538, val_loss: 0.0985, val_acc: 0.9679\n",
      "Epoch [32], last_lr: 0.00478, train_loss: 0.1136, val_loss: 0.0859, val_acc: 0.9787\n",
      "Epoch [33], last_lr: 0.00433, train_loss: 0.1071, val_loss: 0.1539, val_acc: 0.9469\n",
      "Epoch [34], last_lr: 0.00389, train_loss: 0.1246, val_loss: 0.1011, val_acc: 0.9625\n",
      "Epoch [35], last_lr: 0.00345, train_loss: 0.0997, val_loss: 0.0304, val_acc: 0.9915\n",
      "Epoch [36], last_lr: 0.00303, train_loss: 0.0926, val_loss: 0.0216, val_acc: 0.9922\n",
      "Epoch [37], last_lr: 0.00263, train_loss: 0.0775, val_loss: 0.0215, val_acc: 0.9940\n",
      "Epoch [38], last_lr: 0.00225, train_loss: 0.0802, val_loss: 0.0228, val_acc: 0.9929\n",
      "Epoch [39], last_lr: 0.00188, train_loss: 0.0604, val_loss: 0.0222, val_acc: 0.9931\n",
      "Epoch [40], last_lr: 0.00154, train_loss: 0.0549, val_loss: 0.0446, val_acc: 0.9856\n",
      "Epoch [41], last_lr: 0.00123, train_loss: 0.0472, val_loss: 0.0131, val_acc: 0.9957\n",
      "Epoch [42], last_lr: 0.00095, train_loss: 0.0343, val_loss: 0.0127, val_acc: 0.9959\n",
      "Epoch [43], last_lr: 0.00071, train_loss: 0.0403, val_loss: 0.0066, val_acc: 0.9977\n",
      "Epoch [44], last_lr: 0.00050, train_loss: 0.0252, val_loss: 0.0064, val_acc: 0.9980\n",
      "Epoch [45], last_lr: 0.00032, train_loss: 0.0250, val_loss: 0.0043, val_acc: 0.9986\n",
      "Epoch [46], last_lr: 0.00018, train_loss: 0.0227, val_loss: 0.0037, val_acc: 0.9993\n",
      "Epoch [47], last_lr: 0.00008, train_loss: 0.0217, val_loss: 0.0028, val_acc: 0.9991\n",
      "Epoch [48], last_lr: 0.00002, train_loss: 0.0195, val_loss: 0.0029, val_acc: 0.9991\n",
      "Epoch [49], last_lr: 0.00000, train_loss: 0.0197, val_loss: 0.0038, val_acc: 0.9986\n",
      "CPU times: user 8min 21s, sys: 52.7 s, total: 9min 14s\n",
      "Wall time: 15min 31s\n"
     ]
    }
   ],
   "source": [
    "%%time\n",
    "history = fit_one_cycle(epochs, max_lr, model, train_dl, valid_dl, \n",
    "                             grad_clip=grad_clip, \n",
    "                             weight_decay=weight_decay, \n",
    "                             opt_func=opt_fun)"
   ]
  },
  {
   "cell_type": "code",
   "execution_count": 26,
   "id": "0d433f5f",
   "metadata": {
    "execution": {
     "iopub.execute_input": "2023-08-23T18:10:07.988006Z",
     "iopub.status.busy": "2023-08-23T18:10:07.987585Z",
     "iopub.status.idle": "2023-08-23T18:10:07.995284Z",
     "shell.execute_reply": "2023-08-23T18:10:07.994211Z"
    },
    "papermill": {
     "duration": 0.027722,
     "end_time": "2023-08-23T18:10:07.997915",
     "exception": false,
     "start_time": "2023-08-23T18:10:07.970193",
     "status": "completed"
    },
    "tags": []
   },
   "outputs": [],
   "source": [
    "def plot_accuracies(history):\n",
    "    accuracies = [x['val_acc'] for x in history]\n",
    "    plt.plot(accuracies, '-x')\n",
    "    plt.xlabel('epoch')\n",
    "    plt.ylabel('accuracy')\n",
    "    plt.title('Accuracy vs. No. of epochs');"
   ]
  },
  {
   "cell_type": "code",
   "execution_count": 27,
   "id": "ca111412",
   "metadata": {
    "execution": {
     "iopub.execute_input": "2023-08-23T18:10:08.030638Z",
     "iopub.status.busy": "2023-08-23T18:10:08.030248Z",
     "iopub.status.idle": "2023-08-23T18:10:08.414277Z",
     "shell.execute_reply": "2023-08-23T18:10:08.413114Z"
    },
    "papermill": {
     "duration": 0.40367,
     "end_time": "2023-08-23T18:10:08.416925",
     "exception": false,
     "start_time": "2023-08-23T18:10:08.013255",
     "status": "completed"
    },
    "tags": []
   },
   "outputs": [
    {
     "data": {
      "image/png": "[encoded data removed]",
      "text/plain": [
       "<Figure size 640x480 with 1 Axes>"
      ]
     },
     "metadata": {},
     "output_type": "display_data"
    }
   ],
   "source": [
    "plot_accuracies(history)"
   ]
  },
  {
   "cell_type": "code",
   "execution_count": 28,
   "id": "40002fc9",
   "metadata": {
    "execution": {
     "iopub.execute_input": "2023-08-23T18:10:08.452445Z",
     "iopub.status.busy": "2023-08-23T18:10:08.451658Z",
     "iopub.status.idle": "2023-08-23T18:10:08.459476Z",
     "shell.execute_reply": "2023-08-23T18:10:08.458385Z"
    },
    "papermill": {
     "duration": 0.028521,
     "end_time": "2023-08-23T18:10:08.461907",
     "exception": false,
     "start_time": "2023-08-23T18:10:08.433386",
     "status": "completed"
    },
    "tags": []
   },
   "outputs": [],
   "source": [
    "def plot_losses(history):\n",
    "    train_losses = [x.get('train_loss') for x in history]\n",
    "    val_losses = [x['val_loss'] for x in history]\n",
    "    plt.plot(train_losses, '-bx')\n",
    "    plt.plot(val_losses, '-rx')\n",
    "    plt.xlabel('epoch')\n",
    "    plt.ylabel('loss')\n",
    "    plt.legend(['Training', 'Validation'])\n",
    "    plt.title('Loss vs. No. of epochs');"
   ]
  },
  {
   "cell_type": "code",
   "execution_count": 29,
   "id": "0bf1c079",
   "metadata": {
    "execution": {
     "iopub.execute_input": "2023-08-23T18:10:08.495915Z",
     "iopub.status.busy": "2023-08-23T18:10:08.495523Z",
     "iopub.status.idle": "2023-08-23T18:10:08.902162Z",
     "shell.execute_reply": "2023-08-23T18:10:08.901087Z"
    },
    "papermill": {
     "duration": 0.426377,
     "end_time": "2023-08-23T18:10:08.904572",
     "exception": false,
     "start_time": "2023-08-23T18:10:08.478195",
     "status": "completed"
    },
    "tags": []
   },
   "outputs": [
    {
     "data": {
      "image/png": "[encoded data removed]",
      "text/plain": [
       "<Figure size 640x480 with 1 Axes>"
      ]
     },
     "metadata": {},
     "output_type": "display_data"
    }
   ],
   "source": [
    "plot_losses(history)"
   ]
  },
  {
   "cell_type": "code",
   "execution_count": 30,
   "id": "c6a50520",
   "metadata": {
    "execution": {
     "iopub.execute_input": "2023-08-23T18:10:08.940181Z",
     "iopub.status.busy": "2023-08-23T18:10:08.938472Z",
     "iopub.status.idle": "2023-08-23T18:10:08.945288Z",
     "shell.execute_reply": "2023-08-23T18:10:08.944202Z"
    },
    "papermill": {
     "duration": 0.026668,
     "end_time": "2023-08-23T18:10:08.947547",
     "exception": false,
     "start_time": "2023-08-23T18:10:08.920879",
     "status": "completed"
    },
    "tags": []
   },
   "outputs": [],
   "source": [
    "def plot_lrs(history):\n",
    "    lrs = np.concatenate([x.get('lrs', []) for x in history])\n",
    "    plt.plot(lrs)\n",
    "    plt.xlabel('Batch no.')\n",
    "    plt.ylabel('Learning rate')\n",
    "    plt.title('Learning Rate vs. Batch no.');"
   ]
  },
  {
   "cell_type": "code",
   "execution_count": 31,
   "id": "0ed93070",
   "metadata": {
    "execution": {
     "iopub.execute_input": "2023-08-23T18:10:08.980953Z",
     "iopub.status.busy": "2023-08-23T18:10:08.980585Z",
     "iopub.status.idle": "2023-08-23T18:10:09.353163Z",
     "shell.execute_reply": "2023-08-23T18:10:09.352107Z"
    },
    "papermill": {
     "duration": 0.392484,
     "end_time": "2023-08-23T18:10:09.355707",
     "exception": false,
     "start_time": "2023-08-23T18:10:08.963223",
     "status": "completed"
    },
    "tags": []
   },
   "outputs": [
    {
     "data": {
      "image/png": "[encoded data removed]",
      "text/plain": [
       "<Figure size 640x480 with 1 Axes>"
      ]
     },
     "metadata": {},
     "output_type": "display_data"
    }
   ],
   "source": [
    "plot_lrs(history)"
   ]
  },
  {
   "cell_type": "code",
   "execution_count": 32,
   "id": "bbfd5210",
   "metadata": {
    "execution": {
     "iopub.execute_input": "2023-08-23T18:10:09.392255Z",
     "iopub.status.busy": "2023-08-23T18:10:09.391829Z",
     "iopub.status.idle": "2023-08-23T18:10:09.397895Z",
     "shell.execute_reply": "2023-08-23T18:10:09.396867Z"
    },
    "papermill": {
     "duration": 0.027253,
     "end_time": "2023-08-23T18:10:09.400010",
     "exception": false,
     "start_time": "2023-08-23T18:10:09.372757",
     "status": "completed"
    },
    "tags": []
   },
   "outputs": [],
   "source": [
    "def predict_image(img, model):\n",
    "    # Convert to a batch of 1\n",
    "    xb = to_device(img.unsqueeze(0), device)\n",
    "    # Get predictions from model\n",
    "    yb = model(xb)\n",
    "    # Pick index with highest probability\n",
    "    _, preds  = torch.max(yb, dim=1)\n",
    "    # Retrieve the class label\n",
    "    return train_data.classes[preds[0].item()]"
   ]
  },
  {
   "cell_type": "code",
   "execution_count": 33,
   "id": "95b2e8ab",
   "metadata": {
    "execution": {
     "iopub.execute_input": "2023-08-23T18:10:09.435550Z",
     "iopub.status.busy": "2023-08-23T18:10:09.434972Z",
     "iopub.status.idle": "2023-08-23T18:10:09.774657Z",
     "shell.execute_reply": "2023-08-23T18:10:09.773573Z"
    },
    "papermill": {
     "duration": 0.360142,
     "end_time": "2023-08-23T18:10:09.777077",
     "exception": false,
     "start_time": "2023-08-23T18:10:09.416935",
     "status": "completed"
    },
    "tags": []
   },
   "outputs": [
    {
     "name": "stdout",
     "output_type": "stream",
     "text": [
      "Label: cloudy , Predicted: cloudy\n"
     ]
    },
    {
     "data": {
      "image/png": "[encoded data removed]",
      "text/plain": [
       "<Figure size 640x480 with 1 Axes>"
      ]
     },
     "metadata": {},
     "output_type": "display_data"
    }
   ],
   "source": [
    "img, label = test_data[0]\n",
    "plt.imshow(img.permute(1, 2, 0).clamp(0, 1))\n",
    "print('Label:', train_data.classes[label], ', Predicted:', predict_image(img, model))"
   ]
  },
  {
   "cell_type": "code",
   "execution_count": null,
   "id": "a813d7f9",
   "metadata": {
    "papermill": {
     "duration": 0.017256,
     "end_time": "2023-08-23T18:10:09.811747",
     "exception": false,
     "start_time": "2023-08-23T18:10:09.794491",
     "status": "completed"
    },
    "tags": []
   },
   "outputs": [],
   "source": []
  }
 ],
 "metadata": {
  "kernelspec": {
   "display_name": "Python 3",
   "language": "python",
   "name": "python3"
  },
  "language_info": {
   "codemirror_mode": {
    "name": "ipython",
    "version": 3
   },
   "file_extension": ".py",
   "mimetype": "text/x-python",
   "name": "python",
   "nbconvert_exporter": "python",
   "pygments_lexer": "ipython3",
   "version": "3.10.12"
  },
  "papermill": {
   "default_parameters": {},
   "duration": 988.686139,
   "end_time": "2023-08-23T18:10:12.587270",
   "environment_variables": {},
   "exception": null,
   "input_path": "__notebook__.ipynb",
   "output_path": "__notebook__.ipynb",
   "parameters": {},
   "start_time": "2023-08-23T17:53:43.901131",
   "version": "2.4.0"
  }
 },
 "nbformat": 4,
 "nbformat_minor": 5
}
